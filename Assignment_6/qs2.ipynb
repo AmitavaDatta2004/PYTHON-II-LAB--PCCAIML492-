{
 "cells": [
  {
   "cell_type": "markdown",
   "metadata": {},
   "source": [
    "# Exception Handling\n"
   ]
  },
  {
   "cell_type": "markdown",
   "metadata": {},
   "source": [
    "### 1. Write a python code to show ZeroDivisionError."
   ]
  },
  {
   "cell_type": "code",
   "execution_count": 3,
   "metadata": {},
   "outputs": [
    {
     "ename": "ZeroDivisionError",
     "evalue": "division by zero",
     "output_type": "error",
     "traceback": [
      "\u001b[31m---------------------------------------------------------------------------\u001b[39m",
      "\u001b[31mZeroDivisionError\u001b[39m                         Traceback (most recent call last)",
      "\u001b[36mCell\u001b[39m\u001b[36m \u001b[39m\u001b[32mIn[3]\u001b[39m\u001b[32m, line 2\u001b[39m\n\u001b[32m      1\u001b[39m a=\u001b[32m10\u001b[39m\n\u001b[32m----> \u001b[39m\u001b[32m2\u001b[39m \u001b[38;5;28mprint\u001b[39m(\u001b[43ma\u001b[49m\u001b[43m/\u001b[49m\u001b[32;43m0\u001b[39;49m)\n",
      "\u001b[31mZeroDivisionError\u001b[39m: division by zero"
     ]
    }
   ],
   "source": [
    "a=10\n",
    "print(a/0)"
   ]
  },
  {
   "cell_type": "code",
   "execution_count": 5,
   "metadata": {},
   "outputs": [
    {
     "ename": "ZeroDivisionError",
     "evalue": "division by zero",
     "output_type": "error",
     "traceback": [
      "\u001b[31m---------------------------------------------------------------------------\u001b[39m",
      "\u001b[31mZeroDivisionError\u001b[39m                         Traceback (most recent call last)",
      "\u001b[36mCell\u001b[39m\u001b[36m \u001b[39m\u001b[32mIn[5]\u001b[39m\u001b[32m, line 2\u001b[39m\n\u001b[32m      1\u001b[39m a=\u001b[32m10\u001b[39m\n\u001b[32m----> \u001b[39m\u001b[32m2\u001b[39m \u001b[38;5;28mprint\u001b[39m(\u001b[43ma\u001b[49m\u001b[43m/\u001b[49m\u001b[32;43m0\u001b[39;49m)\n\u001b[32m      3\u001b[39m \u001b[38;5;28mprint\u001b[39m(\u001b[33m\"\u001b[39m\u001b[33mhi\u001b[39m\u001b[33m\"\u001b[39m)\n",
      "\u001b[31mZeroDivisionError\u001b[39m: division by zero"
     ]
    }
   ],
   "source": [
    "a=10\n",
    "print(a/0)\n",
    "print(\"hi\")"
   ]
  },
  {
   "cell_type": "code",
   "execution_count": 6,
   "id": "8eb2c64c",
   "metadata": {},
   "outputs": [
    {
     "name": "stdout",
     "output_type": "stream",
     "text": [
      "Zero division erro has occured\n",
      "HI\n"
     ]
    }
   ],
   "source": [
    "a=10\n",
    "try:\n",
    "    print(a/0)\n",
    "except ZeroDivisionError:\n",
    "    print(\"Zero division erro has occured\")\n",
    "\n",
    "print(\"HI\")"
   ]
  },
  {
   "cell_type": "code",
   "execution_count": 9,
   "id": "4d444574",
   "metadata": {},
   "outputs": [
    {
     "ename": "IndexError",
     "evalue": "list index out of range",
     "output_type": "error",
     "traceback": [
      "\u001b[31m---------------------------------------------------------------------------\u001b[39m",
      "\u001b[31mIndexError\u001b[39m                                Traceback (most recent call last)",
      "\u001b[36mCell\u001b[39m\u001b[36m \u001b[39m\u001b[32mIn[9]\u001b[39m\u001b[32m, line 4\u001b[39m\n\u001b[32m      2\u001b[39m \u001b[38;5;28mlist\u001b[39m=[\u001b[32m1\u001b[39m,\u001b[32m2\u001b[39m,\u001b[32m3\u001b[39m,\u001b[32m4\u001b[39m]\n\u001b[32m      3\u001b[39m \u001b[38;5;28;01mtry\u001b[39;00m:\n\u001b[32m----> \u001b[39m\u001b[32m4\u001b[39m     \u001b[38;5;28mprint\u001b[39m(\u001b[38;5;28;43mlist\u001b[39;49m\u001b[43m[\u001b[49m\u001b[32;43m5\u001b[39;49m\u001b[43m]\u001b[49m)\n\u001b[32m      5\u001b[39m     \u001b[38;5;28mprint\u001b[39m(a/\u001b[32m0\u001b[39m)\n\u001b[32m      6\u001b[39m \u001b[38;5;28;01mexcept\u001b[39;00m \u001b[38;5;167;01mZeroDivisionError\u001b[39;00m:\n",
      "\u001b[31mIndexError\u001b[39m: list index out of range"
     ]
    }
   ],
   "source": [
    "a=10\n",
    "list=[1,2,3,4]\n",
    "try:\n",
    "    print(list[5])\n",
    "    print(a/0)\n",
    "except ZeroDivisionError:\n",
    "    print(\"Zero division erro has occured\")\n",
    "\n",
    "print(\"HI\")"
   ]
  },
  {
   "cell_type": "markdown",
   "id": "8454de92",
   "metadata": {},
   "source": [
    "### 2. Write a python code to show IndexError"
   ]
  },
  {
   "cell_type": "code",
   "execution_count": 10,
   "id": "163fb320",
   "metadata": {},
   "outputs": [],
   "source": [
    "list=[1,2,3,4]"
   ]
  },
  {
   "cell_type": "code",
   "execution_count": 11,
   "id": "797c2c2d",
   "metadata": {},
   "outputs": [
    {
     "name": "stdout",
     "output_type": "stream",
     "text": [
      "jkbhwekwervcer\n"
     ]
    }
   ],
   "source": [
    "try:\n",
    "    print(list[6])\n",
    "except IndexError:\n",
    "    print(\"jkbhwekwervcer\")"
   ]
  },
  {
   "cell_type": "markdown",
   "id": "77e6852c",
   "metadata": {},
   "source": [
    "### 3. Write a python code to run a certain block of code if the code block inside try runs without any errors"
   ]
  },
  {
   "cell_type": "markdown",
   "id": "136a79e8",
   "metadata": {},
   "source": []
  },
  {
   "cell_type": "code",
   "execution_count": 12,
   "id": "40091b4d",
   "metadata": {},
   "outputs": [
    {
     "name": "stdout",
     "output_type": "stream",
     "text": [
      "1.0\n",
      "hi\n"
     ]
    }
   ],
   "source": [
    "a=10\n",
    "try:\n",
    "    print(a/10)\n",
    "except ZeroDivisionError:\n",
    "    print(\"fgwefg\")\n",
    "else:\n",
    "    print(\"hi\")"
   ]
  },
  {
   "cell_type": "code",
   "execution_count": 17,
   "id": "e350f284",
   "metadata": {},
   "outputs": [
    {
     "name": "stdout",
     "output_type": "stream",
     "text": [
      "Error\n",
      "Always\n"
     ]
    }
   ],
   "source": [
    "try:\n",
    "    print(a/0)\n",
    "except ZeroDivisionError:\n",
    "    print(\"Error\")\n",
    "else:\n",
    "    print(\"Hi\")\n",
    "finally:\n",
    "    print(\"Always\")"
   ]
  },
  {
   "cell_type": "markdown",
   "id": "1fb59777",
   "metadata": {},
   "source": [
    "### 4. Write a python code to run a certain block of code no matter whether there is an exception or not."
   ]
  },
  {
   "cell_type": "code",
   "execution_count": 18,
   "id": "98ece175",
   "metadata": {},
   "outputs": [],
   "source": [
    "list=[1,2,3,4,5]"
   ]
  },
  {
   "cell_type": "code",
   "execution_count": null,
   "id": "7403e890",
   "metadata": {},
   "outputs": [
    {
     "name": "stdout",
     "output_type": "stream",
     "text": [
      "3\n",
      "There is no error in the try block\n",
      "Mujhe kuch farak nehi parta\n"
     ]
    }
   ],
   "source": [
    "try:\n",
    "    print(list[2])\n",
    "    # print(list[9])\n",
    "except IndexError:\n",
    "    print(\"Error\")\n",
    "else:\n",
    "    print(\"There is no error in the try block\")\n",
    "finally:\n",
    "    print(\"Mujhe kuch farak nehi parta\")"
   ]
  },
  {
   "cell_type": "markdown",
   "id": "b1e40e64",
   "metadata": {},
   "source": [
    "### 5. Write a python code to raise Exceptions (Python's built-in Exception objects) by yourself to indicate that something went wrong"
   ]
  },
  {
   "cell_type": "code",
   "execution_count": null,
   "id": "c496e32c",
   "metadata": {},
   "outputs": [
    {
     "name": "stdout",
     "output_type": "stream",
     "text": [
      "1\n",
      "Error\n"
     ]
    },
    {
     "ename": "NameError",
     "evalue": "name 'Jhgjg' is not defined",
     "output_type": "error",
     "traceback": [
      "\u001b[31m---------------------------------------------------------------------------\u001b[39m",
      "\u001b[31mNameError\u001b[39m                                 Traceback (most recent call last)",
      "\u001b[36mCell\u001b[39m\u001b[36m \u001b[39m\u001b[32mIn[39]\u001b[39m\u001b[32m, line 5\u001b[39m\n\u001b[32m      3\u001b[39m \u001b[38;5;28;01mif\u001b[39;00m i==\u001b[32m0\u001b[39m:\n\u001b[32m      4\u001b[39m     \u001b[38;5;28mprint\u001b[39m(\u001b[33m\"\u001b[39m\u001b[33mError\u001b[39m\u001b[33m\"\u001b[39m)\n\u001b[32m----> \u001b[39m\u001b[32m5\u001b[39m     \u001b[38;5;28;01mraise\u001b[39;00m \u001b[43mJhgjg\u001b[49m(\u001b[33m\"\u001b[39m\u001b[33mewffv\u001b[39m\u001b[33m\"\u001b[39m)\n\u001b[32m      6\u001b[39m     \u001b[38;5;66;03m# raise Exception(\"brtert\")\u001b[39;00m\n\u001b[32m      7\u001b[39m     \u001b[38;5;66;03m# raise ZeroDivisionError(\"Zero division error\")\u001b[39;00m\n\u001b[32m      8\u001b[39m \u001b[38;5;28mprint\u001b[39m(i)\n",
      "\u001b[31mNameError\u001b[39m: name 'Jhgjg' is not defined"
     ]
    }
   ],
   "source": [
    "list=[1,0,2,3]\n",
    "for i in list:\n",
    "    if i==0:\n",
    "        print(\"Error\")\n",
    "        # raise Exception(\"brtert\")\n",
    "        # raise ZeroDivisionError(\"Zero division error\")\n",
    "    print(i)\n",
    "\n",
    "a = 10\n",
    "for i in list:\n",
    "    print(a/i)"
   ]
  },
  {
   "cell_type": "markdown",
   "id": "039cb3ea",
   "metadata": {},
   "source": [
    "### 6. Write a python code to define custom exceptions by creating a new class that is derived from the built-in Exception class."
   ]
  },
  {
   "cell_type": "code",
   "execution_count": 30,
   "id": "70d8eb4f",
   "metadata": {},
   "outputs": [
    {
     "name": "stdout",
     "output_type": "stream",
     "text": [
      "1\n",
      "Error\n"
     ]
    },
    {
     "ename": "NameError",
     "evalue": "name 'Srinjinne' is not defined",
     "output_type": "error",
     "traceback": [
      "\u001b[31m---------------------------------------------------------------------------\u001b[39m",
      "\u001b[31mNameError\u001b[39m                                 Traceback (most recent call last)",
      "\u001b[36mCell\u001b[39m\u001b[36m \u001b[39m\u001b[32mIn[30]\u001b[39m\u001b[32m, line 5\u001b[39m\n\u001b[32m      3\u001b[39m \u001b[38;5;28;01mif\u001b[39;00m i==\u001b[32m0\u001b[39m:\n\u001b[32m      4\u001b[39m     \u001b[38;5;28mprint\u001b[39m(\u001b[33m\"\u001b[39m\u001b[33mError\u001b[39m\u001b[33m\"\u001b[39m)\n\u001b[32m----> \u001b[39m\u001b[32m5\u001b[39m     \u001b[38;5;28;01mraise\u001b[39;00m \u001b[43mSrinjinne\u001b[49m\n\u001b[32m      6\u001b[39m     \u001b[38;5;66;03m# raise Exception\u001b[39;00m\n\u001b[32m      7\u001b[39m     \u001b[38;5;66;03m# raise ZeroDivisionError\u001b[39;00m\n\u001b[32m      8\u001b[39m \u001b[38;5;28mprint\u001b[39m(i)\n",
      "\u001b[31mNameError\u001b[39m: name 'Srinjinne' is not defined"
     ]
    }
   ],
   "source": [
    "list=[1,0,2,3]\n",
    "for i in list:\n",
    "    if i==0:\n",
    "        print(\"Error\")\n",
    "        raise Srinjinne\n",
    "        # raise Exception\n",
    "        # raise ZeroDivisionError\n",
    "    print(i)\n",
    "\n",
    "a = 10\n",
    "for i in list:\n",
    "    print(a/i)"
   ]
  },
  {
   "cell_type": "code",
   "execution_count": null,
   "id": "233c884e",
   "metadata": {},
   "outputs": [
    {
     "name": "stdout",
     "output_type": "stream",
     "text": [
      "Error\n"
     ]
    }
   ],
   "source": [
    "class Srinjinee(Exception):\n",
    "    pass"
   ]
  },
  {
   "cell_type": "code",
   "execution_count": 44,
   "id": "0ca3b04c",
   "metadata": {},
   "outputs": [
    {
     "name": "stdout",
     "output_type": "stream",
     "text": [
      "1\n",
      "Error\n"
     ]
    },
    {
     "ename": "Srinjinee",
     "evalue": "🤡",
     "output_type": "error",
     "traceback": [
      "\u001b[31m---------------------------------------------------------------------------\u001b[39m",
      "\u001b[31mSrinjinee\u001b[39m                                 Traceback (most recent call last)",
      "\u001b[36mCell\u001b[39m\u001b[36m \u001b[39m\u001b[32mIn[44]\u001b[39m\u001b[32m, line 5\u001b[39m\n\u001b[32m      3\u001b[39m \u001b[38;5;28;01mif\u001b[39;00m i==\u001b[32m0\u001b[39m:\n\u001b[32m      4\u001b[39m     \u001b[38;5;28mprint\u001b[39m(\u001b[33m\"\u001b[39m\u001b[33mError\u001b[39m\u001b[33m\"\u001b[39m)\n\u001b[32m----> \u001b[39m\u001b[32m5\u001b[39m     \u001b[38;5;28;01mraise\u001b[39;00m Srinjinee(\u001b[33m\"\u001b[39m\u001b[33m🤡\u001b[39m\u001b[33m\"\u001b[39m)\n\u001b[32m      6\u001b[39m     \u001b[38;5;66;03m# raise Exception\u001b[39;00m\n\u001b[32m      7\u001b[39m     \u001b[38;5;66;03m# raise ZeroDivisionError\u001b[39;00m\n\u001b[32m      8\u001b[39m \u001b[38;5;28mprint\u001b[39m(i)\n",
      "\u001b[31mSrinjinee\u001b[39m: 🤡"
     ]
    }
   ],
   "source": [
    "list=[1,0,2,3]\n",
    "for i in list:\n",
    "    if i==0:\n",
    "        print(\"Error\")\n",
    "        raise Srinjinee(\"🤡\")\n",
    "        # raise Exception\n",
    "        # raise ZeroDivisionError\n",
    "    print(i)\n",
    "\n",
    "a = 10\n",
    "for i in list:\n",
    "    print(a/i)"
   ]
  },
  {
   "cell_type": "markdown",
   "id": "5f1b85e9",
   "metadata": {},
   "source": [
    "### 7. You're going to write an interactive calculator! User input is assumed to be a formula that consist of a number, anoperator (at least + and -), and another number, separated by white space (e.g. 1 + 1). Split user input using str.split(),and check whether the resulting list is valid:\n",
    "- If the input does not consist of 3 elements, raise a FormulaError, which is a custom Exception.\n",
    "- Try to convert the first and third input to a float (like so: float_value = float(str_value)). Catch\n",
    "any ValueError that occurs, and instead raise a FormulaError\n",
    "- If the second input is not '+' or '-', again raise a FormulaError\n",
    "If the input is valid, perform the calculation and print out the result. The user is then prompted to provide new input,\n",
    "and so on, until the user enters quit.\n",
    "\n",
    "An interaction could look like this:\n",
    "```\n",
    ">>> 1 + 1\n",
    "2.0\n",
    ">>> 3.2 - 1.5\n",
    "1.7000000000000002\n",
    ">>> quit\n",
    "```"
   ]
  },
  {
   "cell_type": "code",
   "execution_count": null,
   "id": "f81a01e9",
   "metadata": {},
   "outputs": [],
   "source": []
  },
  {
   "cell_type": "code",
   "execution_count": null,
   "id": "027f2b90",
   "metadata": {},
   "outputs": [],
   "source": []
  }
 ],
 "metadata": {
  "kernelspec": {
   "display_name": ".venv",
   "language": "python",
   "name": "python3"
  },
  "language_info": {
   "codemirror_mode": {
    "name": "ipython",
    "version": 3
   },
   "file_extension": ".py",
   "mimetype": "text/x-python",
   "name": "python",
   "nbconvert_exporter": "python",
   "pygments_lexer": "ipython3",
   "version": "3.13.0"
  }
 },
 "nbformat": 4,
 "nbformat_minor": 5
}
