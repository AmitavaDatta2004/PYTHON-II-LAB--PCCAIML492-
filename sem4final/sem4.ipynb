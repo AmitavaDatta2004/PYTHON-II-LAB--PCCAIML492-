{
 "cells": [
  {
   "cell_type": "markdown",
   "id": "2a8e5c17",
   "metadata": {},
   "source": [
    "# Assignment 3"
   ]
  },
  {
   "cell_type": "markdown",
   "id": "db9a5072",
   "metadata": {},
   "source": [
    "### The Iris Dataset contains four features (length and width of sepals and petals) of 50 samples of  three  species  of  Iris  (Iris  setosa,  Iris  virginica  and  Iris  versicolor).  Read  the  Iris  dataset (iris.csv) using pandas and data frame. Write a python program to do the following operations on it. "
   ]
  },
  {
   "cell_type": "code",
   "execution_count": 1,
   "id": "28e23685",
   "metadata": {},
   "outputs": [],
   "source": [
    "import pandas as pd\n",
    "data = pd.read_csv('iris.csv')"
   ]
  },
  {
   "cell_type": "markdown",
   "id": "7707f783",
   "metadata": {},
   "source": [
    "### 1.  Print the data frame."
   ]
  },
  {
   "cell_type": "code",
   "execution_count": 2,
   "id": "2168fc79",
   "metadata": {},
   "outputs": [
    {
     "name": "stdout",
     "output_type": "stream",
     "text": [
      "     sepal.length  sepal.width  petal.length  petal.width    variety\n",
      "0             5.1          3.5           1.4          0.2     Setosa\n",
      "1             4.9          3.0           1.4          0.2     Setosa\n",
      "2             4.7          3.2           1.3          0.2     Setosa\n",
      "3             4.6          3.1           1.5          0.2     Setosa\n",
      "4             5.0          3.6           1.4          0.2     Setosa\n",
      "..            ...          ...           ...          ...        ...\n",
      "145           6.7          3.0           5.2          2.3  Virginica\n",
      "146           6.3          2.5           5.0          1.9  Virginica\n",
      "147           6.5          3.0           5.2          2.0  Virginica\n",
      "148           6.2          3.4           5.4          2.3  Virginica\n",
      "149           5.9          3.0           5.1          1.8  Virginica\n",
      "\n",
      "[150 rows x 5 columns]\n"
     ]
    }
   ],
   "source": [
    "print(data)"
   ]
  },
  {
   "cell_type": "code",
   "execution_count": 3,
   "id": "2393650d",
   "metadata": {},
   "outputs": [
    {
     "name": "stdout",
     "output_type": "stream",
     "text": [
      "<class 'pandas.core.frame.DataFrame'>\n"
     ]
    }
   ],
   "source": [
    "print(type(data))"
   ]
  },
  {
   "cell_type": "markdown",
   "id": "e74b2041",
   "metadata": {},
   "source": [
    "### 2.  Display top 5 rows. "
   ]
  },
  {
   "cell_type": "code",
   "execution_count": 4,
   "id": "72249e5f",
   "metadata": {},
   "outputs": [
    {
     "name": "stdout",
     "output_type": "stream",
     "text": [
      "   sepal.length  sepal.width  petal.length  petal.width variety\n",
      "0           5.1          3.5           1.4          0.2  Setosa\n",
      "1           4.9          3.0           1.4          0.2  Setosa\n",
      "2           4.7          3.2           1.3          0.2  Setosa\n",
      "3           4.6          3.1           1.5          0.2  Setosa\n",
      "4           5.0          3.6           1.4          0.2  Setosa\n",
      "   sepal.length  sepal.width  petal.length  petal.width variety\n",
      "0           5.1          3.5           1.4          0.2  Setosa\n",
      "1           4.9          3.0           1.4          0.2  Setosa\n",
      "2           4.7          3.2           1.3          0.2  Setosa\n",
      "3           4.6          3.1           1.5          0.2  Setosa\n",
      "4           5.0          3.6           1.4          0.2  Setosa\n",
      "5           5.4          3.9           1.7          0.4  Setosa\n",
      "6           4.6          3.4           1.4          0.3  Setosa\n",
      "7           5.0          3.4           1.5          0.2  Setosa\n",
      "8           4.4          2.9           1.4          0.2  Setosa\n",
      "9           4.9          3.1           1.5          0.1  Setosa\n"
     ]
    }
   ],
   "source": [
    "print(data.head())  # 5 is default\n",
    "print(data.head(10))"
   ]
  },
  {
   "cell_type": "markdown",
   "id": "c6d9f6d9",
   "metadata": {},
   "source": [
    "### 3.  Compute statistical analysis on the data frame."
   ]
  },
  {
   "cell_type": "code",
   "execution_count": 5,
   "id": "a5dc33e2",
   "metadata": {},
   "outputs": [
    {
     "name": "stdout",
     "output_type": "stream",
     "text": [
      "       sepal.length  sepal.width  petal.length  petal.width\n",
      "count    150.000000   150.000000    150.000000   150.000000\n",
      "mean       5.843333     3.057333      3.758000     1.199333\n",
      "std        0.828066     0.435866      1.765298     0.762238\n",
      "min        4.300000     2.000000      1.000000     0.100000\n",
      "25%        5.100000     2.800000      1.600000     0.300000\n",
      "50%        5.800000     3.000000      4.350000     1.300000\n",
      "75%        6.400000     3.300000      5.100000     1.800000\n",
      "max        7.900000     4.400000      6.900000     2.500000\n"
     ]
    }
   ],
   "source": [
    "print(data.describe())"
   ]
  },
  {
   "cell_type": "markdown",
   "id": "7b466c0b",
   "metadata": {},
   "source": [
    "### 4.  Display 10 random sample rows."
   ]
  },
  {
   "cell_type": "code",
   "execution_count": 6,
   "id": "92fa1ae7",
   "metadata": {},
   "outputs": [
    {
     "name": "stdout",
     "output_type": "stream",
     "text": [
      "     sepal.length  sepal.width  petal.length  petal.width     variety\n",
      "55            5.7          2.8           4.5          1.3  Versicolor\n",
      "143           6.8          3.2           5.9          2.3   Virginica\n",
      "148           6.2          3.4           5.4          2.3   Virginica\n",
      "115           6.4          3.2           5.3          2.3   Virginica\n",
      "135           7.7          3.0           6.1          2.3   Virginica\n",
      "140           6.7          3.1           5.6          2.4   Virginica\n",
      "126           6.2          2.8           4.8          1.8   Virginica\n",
      "15            5.7          4.4           1.5          0.4      Setosa\n",
      "20            5.4          3.4           1.7          0.2      Setosa\n",
      "74            6.4          2.9           4.3          1.3  Versicolor\n"
     ]
    }
   ],
   "source": [
    "print(data.sample(10))"
   ]
  },
  {
   "cell_type": "markdown",
   "id": "a6b737c1",
   "metadata": {},
   "source": [
    "### 5.  Display the number of columns and names of the columns. "
   ]
  },
  {
   "cell_type": "code",
   "execution_count": 7,
   "id": "827eaeb3",
   "metadata": {},
   "outputs": [
    {
     "name": "stdout",
     "output_type": "stream",
     "text": [
      "No of columns : 5\n",
      "The columns are --->\n",
      "Index(['sepal.length', 'sepal.width', 'petal.length', 'petal.width',\n",
      "       'variety'],\n",
      "      dtype='object')\n"
     ]
    }
   ],
   "source": [
    "print(\"No of columns\" , end=\" : \")\n",
    "print(len(data.columns))\n",
    "print(\"The columns are --->\")\n",
    "print(data.columns)"
   ]
  },
  {
   "cell_type": "markdown",
   "id": "99520d7e",
   "metadata": {},
   "source": [
    "### 6.  Print the shape of the dataset."
   ]
  },
  {
   "cell_type": "code",
   "execution_count": 8,
   "id": "af0aef04",
   "metadata": {},
   "outputs": [
    {
     "name": "stdout",
     "output_type": "stream",
     "text": [
      "(150, 5)\n"
     ]
    }
   ],
   "source": [
    "print(data.shape)"
   ]
  },
  {
   "cell_type": "markdown",
   "id": "2fe1253e",
   "metadata": {},
   "source": [
    "### 7.  Fetch data from 5th row to 10th row."
   ]
  },
  {
   "cell_type": "code",
   "execution_count": 9,
   "id": "a23b2641",
   "metadata": {},
   "outputs": [
    {
     "name": "stdout",
     "output_type": "stream",
     "text": [
      "    sepal.length  sepal.width  petal.length  petal.width variety\n",
      "5            5.4          3.9           1.7          0.4  Setosa\n",
      "6            4.6          3.4           1.4          0.3  Setosa\n",
      "7            5.0          3.4           1.5          0.2  Setosa\n",
      "8            4.4          2.9           1.4          0.2  Setosa\n",
      "9            4.9          3.1           1.5          0.1  Setosa\n",
      "10           5.4          3.7           1.5          0.2  Setosa\n"
     ]
    }
   ],
   "source": [
    "print(data.iloc[5:11])"
   ]
  },
  {
   "cell_type": "code",
   "execution_count": 10,
   "id": "7fd2e6a1",
   "metadata": {},
   "outputs": [
    {
     "name": "stdout",
     "output_type": "stream",
     "text": [
      "    sepal.length  sepal.width  petal.length  petal.width variety\n",
      "5            5.4          3.9           1.7          0.4  Setosa\n",
      "6            4.6          3.4           1.4          0.3  Setosa\n",
      "7            5.0          3.4           1.5          0.2  Setosa\n",
      "8            4.4          2.9           1.4          0.2  Setosa\n",
      "9            4.9          3.1           1.5          0.1  Setosa\n",
      "10           5.4          3.7           1.5          0.2  Setosa\n"
     ]
    }
   ],
   "source": [
    "print(data.loc[5:10])"
   ]
  },
  {
   "cell_type": "markdown",
   "id": "c8f02feb",
   "metadata": {},
   "source": [
    "### 8.  Display data for two columns: petal. length and petal. width"
   ]
  },
  {
   "cell_type": "code",
   "execution_count": 11,
   "id": "40fde6f9",
   "metadata": {},
   "outputs": [
    {
     "name": "stdout",
     "output_type": "stream",
     "text": [
      "     petal.length  petal.width\n",
      "0             1.4          0.2\n",
      "1             1.4          0.2\n",
      "2             1.3          0.2\n",
      "3             1.5          0.2\n",
      "4             1.4          0.2\n",
      "..            ...          ...\n",
      "145           5.2          2.3\n",
      "146           5.0          1.9\n",
      "147           5.2          2.0\n",
      "148           5.4          2.3\n",
      "149           5.1          1.8\n",
      "\n",
      "[150 rows x 2 columns]\n"
     ]
    }
   ],
   "source": [
    "print(data[['petal.length','petal.width']])"
   ]
  },
  {
   "cell_type": "markdown",
   "id": "21a0e9ed",
   "metadata": {},
   "source": [
    "### 9.  Counting the number of counts of each variety."
   ]
  },
  {
   "cell_type": "code",
   "execution_count": 12,
   "id": "5e787b44",
   "metadata": {},
   "outputs": [
    {
     "name": "stdout",
     "output_type": "stream",
     "text": [
      "sepal.length    150\n",
      "sepal.width     150\n",
      "petal.length    150\n",
      "petal.width     150\n",
      "variety         150\n",
      "dtype: int64\n"
     ]
    }
   ],
   "source": [
    "print(data.count())"
   ]
  },
  {
   "cell_type": "code",
   "execution_count": 13,
   "id": "3aeb59ad",
   "metadata": {},
   "outputs": [
    {
     "name": "stdout",
     "output_type": "stream",
     "text": [
      "variety\n",
      "Setosa        50\n",
      "Versicolor    50\n",
      "Virginica     50\n",
      "Name: count, dtype: int64\n"
     ]
    }
   ],
   "source": [
    "print(data['variety'].value_counts())"
   ]
  },
  {
   "cell_type": "markdown",
   "id": "cb00057d",
   "metadata": {},
   "source": [
    "### 10.  Display only those rows whose variety is Setosa."
   ]
  },
  {
   "cell_type": "code",
   "execution_count": 14,
   "id": "b0ebe6f7",
   "metadata": {},
   "outputs": [
    {
     "name": "stdout",
     "output_type": "stream",
     "text": [
      "    sepal.length  sepal.width  petal.length  petal.width variety\n",
      "0            5.1          3.5           1.4          0.2  Setosa\n",
      "1            4.9          3.0           1.4          0.2  Setosa\n",
      "2            4.7          3.2           1.3          0.2  Setosa\n",
      "3            4.6          3.1           1.5          0.2  Setosa\n",
      "4            5.0          3.6           1.4          0.2  Setosa\n",
      "5            5.4          3.9           1.7          0.4  Setosa\n",
      "6            4.6          3.4           1.4          0.3  Setosa\n",
      "7            5.0          3.4           1.5          0.2  Setosa\n",
      "8            4.4          2.9           1.4          0.2  Setosa\n",
      "9            4.9          3.1           1.5          0.1  Setosa\n",
      "10           5.4          3.7           1.5          0.2  Setosa\n",
      "11           4.8          3.4           1.6          0.2  Setosa\n",
      "12           4.8          3.0           1.4          0.1  Setosa\n",
      "13           4.3          3.0           1.1          0.1  Setosa\n",
      "14           5.8          4.0           1.2          0.2  Setosa\n",
      "15           5.7          4.4           1.5          0.4  Setosa\n",
      "16           5.4          3.9           1.3          0.4  Setosa\n",
      "17           5.1          3.5           1.4          0.3  Setosa\n",
      "18           5.7          3.8           1.7          0.3  Setosa\n",
      "19           5.1          3.8           1.5          0.3  Setosa\n",
      "20           5.4          3.4           1.7          0.2  Setosa\n",
      "21           5.1          3.7           1.5          0.4  Setosa\n",
      "22           4.6          3.6           1.0          0.2  Setosa\n",
      "23           5.1          3.3           1.7          0.5  Setosa\n",
      "24           4.8          3.4           1.9          0.2  Setosa\n",
      "25           5.0          3.0           1.6          0.2  Setosa\n",
      "26           5.0          3.4           1.6          0.4  Setosa\n",
      "27           5.2          3.5           1.5          0.2  Setosa\n",
      "28           5.2          3.4           1.4          0.2  Setosa\n",
      "29           4.7          3.2           1.6          0.2  Setosa\n",
      "30           4.8          3.1           1.6          0.2  Setosa\n",
      "31           5.4          3.4           1.5          0.4  Setosa\n",
      "32           5.2          4.1           1.5          0.1  Setosa\n",
      "33           5.5          4.2           1.4          0.2  Setosa\n",
      "34           4.9          3.1           1.5          0.2  Setosa\n",
      "35           5.0          3.2           1.2          0.2  Setosa\n",
      "36           5.5          3.5           1.3          0.2  Setosa\n",
      "37           4.9          3.6           1.4          0.1  Setosa\n",
      "38           4.4          3.0           1.3          0.2  Setosa\n",
      "39           5.1          3.4           1.5          0.2  Setosa\n",
      "40           5.0          3.5           1.3          0.3  Setosa\n",
      "41           4.5          2.3           1.3          0.3  Setosa\n",
      "42           4.4          3.2           1.3          0.2  Setosa\n",
      "43           5.0          3.5           1.6          0.6  Setosa\n",
      "44           5.1          3.8           1.9          0.4  Setosa\n",
      "45           4.8          3.0           1.4          0.3  Setosa\n",
      "46           5.1          3.8           1.6          0.2  Setosa\n",
      "47           4.6          3.2           1.4          0.2  Setosa\n",
      "48           5.3          3.7           1.5          0.2  Setosa\n",
      "49           5.0          3.3           1.4          0.2  Setosa\n",
      "<class 'pandas.core.frame.DataFrame'>\n"
     ]
    }
   ],
   "source": [
    "print(data[data['variety']=='Setosa'])\n",
    "print(type(data[data['variety']=='Setosa']))"
   ]
  },
  {
   "cell_type": "code",
   "execution_count": 15,
   "id": "79ea4d0c",
   "metadata": {},
   "outputs": [
    {
     "name": "stdout",
     "output_type": "stream",
     "text": [
      "0       True\n",
      "1       True\n",
      "2       True\n",
      "3       True\n",
      "4       True\n",
      "       ...  \n",
      "145    False\n",
      "146    False\n",
      "147    False\n",
      "148    False\n",
      "149    False\n",
      "Name: variety, Length: 150, dtype: bool\n"
     ]
    }
   ],
   "source": [
    "print(data['variety']=='Setosa')\n",
    "# print(type((data['variety']=='Setosa')))"
   ]
  },
  {
   "cell_type": "markdown",
   "id": "1e50f438",
   "metadata": {},
   "source": [
    "### 11.  Calculate the sum, mean and mode of a particular column (say petal. length). "
   ]
  },
  {
   "cell_type": "code",
   "execution_count": 17,
   "id": "bac62b91",
   "metadata": {},
   "outputs": [
    {
     "name": "stdout",
     "output_type": "stream",
     "text": [
      "563.7\n",
      "3.7580000000000005\n",
      "0    1.4\n",
      "1    1.5\n",
      "Name: petal.length, dtype: float64\n"
     ]
    }
   ],
   "source": [
    "print(data['petal.length'].sum())\n",
    "print(data['petal.length'].mean())\n",
    "print(data['petal.length'].mode())"
   ]
  },
  {
   "cell_type": "markdown",
   "id": "d445c805",
   "metadata": {},
   "source": [
    "### 12.  Extract minimum and maximum value from a column (say petal. length). "
   ]
  },
  {
   "cell_type": "code",
   "execution_count": 20,
   "id": "79e45826",
   "metadata": {},
   "outputs": [
    {
     "name": "stdout",
     "output_type": "stream",
     "text": [
      "1.0\n",
      "6.9\n"
     ]
    }
   ],
   "source": [
    "print(data['petal.length'].min())\n",
    "print(data['petal.length'].max())"
   ]
  },
  {
   "cell_type": "markdown",
   "id": "d9ec5cf2",
   "metadata": {},
   "source": [
    "### 13.  Add a column (say total_value) to the dataset which will display the sum of the integer values of each row."
   ]
  },
  {
   "cell_type": "code",
   "execution_count": 24,
   "id": "91ba0c47",
   "metadata": {},
   "outputs": [
    {
     "name": "stdout",
     "output_type": "stream",
     "text": [
      "     sepal.length  sepal.width  petal.length  petal.width    variety  \\\n",
      "0             5.1          3.5           1.4          0.2     Setosa   \n",
      "1             4.9          3.0           1.4          0.2     Setosa   \n",
      "2             4.7          3.2           1.3          0.2     Setosa   \n",
      "3             4.6          3.1           1.5          0.2     Setosa   \n",
      "4             5.0          3.6           1.4          0.2     Setosa   \n",
      "..            ...          ...           ...          ...        ...   \n",
      "145           6.7          3.0           5.2          2.3  Virginica   \n",
      "146           6.3          2.5           5.0          1.9  Virginica   \n",
      "147           6.5          3.0           5.2          2.0  Virginica   \n",
      "148           6.2          3.4           5.4          2.3  Virginica   \n",
      "149           5.9          3.0           5.1          1.8  Virginica   \n",
      "\n",
      "     total.value  \n",
      "0           10.2  \n",
      "1            9.5  \n",
      "2            9.4  \n",
      "3            9.4  \n",
      "4           10.2  \n",
      "..           ...  \n",
      "145         17.2  \n",
      "146         15.7  \n",
      "147         16.7  \n",
      "148         17.3  \n",
      "149         15.8  \n",
      "\n",
      "[150 rows x 6 columns]\n"
     ]
    }
   ],
   "source": [
    "data['total.value']=data[['petal.length','petal.width','sepal.length','sepal.width']].sum(axis=1)\n",
    "print(data)"
   ]
  },
  {
   "cell_type": "code",
   "execution_count": null,
   "id": "40e9be7e",
   "metadata": {},
   "outputs": [],
   "source": []
  }
 ],
 "metadata": {
  "kernelspec": {
   "display_name": ".venv",
   "language": "python",
   "name": "python3"
  },
  "language_info": {
   "codemirror_mode": {
    "name": "ipython",
    "version": 3
   },
   "file_extension": ".py",
   "mimetype": "text/x-python",
   "name": "python",
   "nbconvert_exporter": "python",
   "pygments_lexer": "ipython3",
   "version": "3.13.0"
  }
 },
 "nbformat": 4,
 "nbformat_minor": 5
}
