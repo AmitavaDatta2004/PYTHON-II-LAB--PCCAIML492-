{
 "cells": [
  {
   "cell_type": "code",
   "execution_count": 1,
   "id": "b134aa3d",
   "metadata": {},
   "outputs": [],
   "source": [
    "import pandas as pd"
   ]
  },
  {
   "cell_type": "markdown",
   "id": "0d02351c",
   "metadata": {},
   "source": [
    "Print the data frame. "
   ]
  },
  {
   "cell_type": "code",
   "execution_count": 2,
   "id": "785beb6f",
   "metadata": {},
   "outputs": [
    {
     "name": "stdout",
     "output_type": "stream",
     "text": [
      "     sepal.length  sepal.width  petal.length  petal.width    variety  \\\n",
      "0             5.1          3.5           1.4          0.2     Setosa   \n",
      "1             4.9          3.0           1.4          0.2     Setosa   \n",
      "2             4.7          3.2           1.3          0.2     Setosa   \n",
      "3             4.6          3.1           1.5          0.2     Setosa   \n",
      "4             5.0          3.6           1.4          0.2     Setosa   \n",
      "..            ...          ...           ...          ...        ...   \n",
      "145           6.7          3.0           5.2          2.3  Virginica   \n",
      "146           6.3          2.5           5.0          1.9  Virginica   \n",
      "147           6.5          3.0           5.2          2.0  Virginica   \n",
      "148           6.2          3.4           5.4          2.3  Virginica   \n",
      "149           5.9          3.0           5.1          1.8  Virginica   \n",
      "\n",
      "     total_value  \n",
      "0           10.2  \n",
      "1            9.5  \n",
      "2            9.4  \n",
      "3            9.4  \n",
      "4           10.2  \n",
      "..           ...  \n",
      "145         17.2  \n",
      "146         15.7  \n",
      "147         16.7  \n",
      "148         17.3  \n",
      "149         15.8  \n",
      "\n",
      "[150 rows x 6 columns]\n"
     ]
    }
   ],
   "source": [
    "data=pd.read_csv('iris.csv')\n",
    "print(data)"
   ]
  },
  {
   "cell_type": "markdown",
   "id": "56ac36b8",
   "metadata": {},
   "source": [
    "  Display top 5 rows"
   ]
  },
  {
   "cell_type": "code",
   "execution_count": 5,
   "id": "84acb444",
   "metadata": {},
   "outputs": [
    {
     "name": "stdout",
     "output_type": "stream",
     "text": [
      "   sepal.length  sepal.width  petal.length  petal.width variety  total_value\n",
      "0           5.1          3.5           1.4          0.2  Setosa         10.2\n",
      "1           4.9          3.0           1.4          0.2  Setosa          9.5\n",
      "2           4.7          3.2           1.3          0.2  Setosa          9.4\n",
      "3           4.6          3.1           1.5          0.2  Setosa          9.4\n",
      "4           5.0          3.6           1.4          0.2  Setosa         10.2\n"
     ]
    }
   ],
   "source": [
    "print(data.head(5))"
   ]
  },
  {
   "cell_type": "markdown",
   "id": "05a08fb5",
   "metadata": {},
   "source": [
    " Compute statistical analysis on the data frame"
   ]
  },
  {
   "cell_type": "code",
   "execution_count": 6,
   "id": "057398ab",
   "metadata": {},
   "outputs": [
    {
     "name": "stdout",
     "output_type": "stream",
     "text": [
      "       sepal.length  sepal.width  petal.length  petal.width  total_value\n",
      "count    150.000000   150.000000    150.000000   150.000000   150.000000\n",
      "mean       5.843333     3.057333      3.758000     1.199333    13.858000\n",
      "std        0.828066     0.435866      1.765298     0.762238     3.123762\n",
      "min        4.300000     2.000000      1.000000     0.100000     8.400000\n",
      "25%        5.100000     2.800000      1.600000     0.300000    10.700000\n",
      "50%        5.800000     3.000000      4.350000     1.300000    14.300000\n",
      "75%        6.400000     3.300000      5.100000     1.800000    16.250000\n",
      "max        7.900000     4.400000      6.900000     2.500000    20.400000\n"
     ]
    }
   ],
   "source": [
    "print(data.describe())"
   ]
  },
  {
   "cell_type": "markdown",
   "id": "f228a3b4",
   "metadata": {},
   "source": [
    "Display 10 random sample rows"
   ]
  },
  {
   "cell_type": "code",
   "execution_count": 7,
   "id": "00b3a368",
   "metadata": {},
   "outputs": [
    {
     "name": "stdout",
     "output_type": "stream",
     "text": [
      "     sepal.length  sepal.width  petal.length  petal.width     variety  \\\n",
      "107           7.3          2.9           6.3          1.8   Virginica   \n",
      "93            5.0          2.3           3.3          1.0  Versicolor   \n",
      "114           5.8          2.8           5.1          2.4   Virginica   \n",
      "137           6.4          3.1           5.5          1.8   Virginica   \n",
      "41            4.5          2.3           1.3          0.3      Setosa   \n",
      "124           6.7          3.3           5.7          2.1   Virginica   \n",
      "59            5.2          2.7           3.9          1.4  Versicolor   \n",
      "15            5.7          4.4           1.5          0.4      Setosa   \n",
      "144           6.7          3.3           5.7          2.5   Virginica   \n",
      "73            6.1          2.8           4.7          1.2  Versicolor   \n",
      "\n",
      "     total_value  \n",
      "107         18.3  \n",
      "93          11.6  \n",
      "114         16.1  \n",
      "137         16.8  \n",
      "41           8.4  \n",
      "124         17.8  \n",
      "59          13.2  \n",
      "15          12.0  \n",
      "144         18.2  \n",
      "73          14.8  \n"
     ]
    }
   ],
   "source": [
    "print(data.sample(10))"
   ]
  },
  {
   "cell_type": "markdown",
   "id": "f6b6dd62",
   "metadata": {},
   "source": [
    " Display the number of columns and names of the columns"
   ]
  },
  {
   "cell_type": "code",
   "execution_count": 11,
   "id": "80b42f8e",
   "metadata": {},
   "outputs": [
    {
     "name": "stdout",
     "output_type": "stream",
     "text": [
      "Index(['sepal.length', 'sepal.width', 'petal.length', 'petal.width', 'variety',\n",
      "       'total_value'],\n",
      "      dtype='object')\n",
      "<class 'pandas.core.indexes.base.Index'>\n",
      "6\n"
     ]
    }
   ],
   "source": [
    "print(data.columns)\n",
    "list=data.columns\n",
    "print(type(list))\n",
    "print(len(list))"
   ]
  },
  {
   "cell_type": "markdown",
   "id": "8bd292ad",
   "metadata": {},
   "source": [
    "Print the shape of the dataset"
   ]
  },
  {
   "cell_type": "code",
   "execution_count": 13,
   "id": "b49d1e5b",
   "metadata": {},
   "outputs": [
    {
     "name": "stdout",
     "output_type": "stream",
     "text": [
      "(150, 6)\n"
     ]
    }
   ],
   "source": [
    "print(data.shape)"
   ]
  },
  {
   "cell_type": "markdown",
   "id": "f0073c89",
   "metadata": {},
   "source": [
    "Fetch data from 5th row to 10th row"
   ]
  },
  {
   "cell_type": "code",
   "execution_count": 15,
   "id": "d5b0e7d3",
   "metadata": {},
   "outputs": [
    {
     "name": "stdout",
     "output_type": "stream",
     "text": [
      "    sepal.length  sepal.width  petal.length  petal.width variety  total_value\n",
      "4            5.0          3.6           1.4          0.2  Setosa         10.2\n",
      "5            5.4          3.9           1.7          0.4  Setosa         11.4\n",
      "6            4.6          3.4           1.4          0.3  Setosa          9.7\n",
      "7            5.0          3.4           1.5          0.2  Setosa         10.1\n",
      "8            4.4          2.9           1.4          0.2  Setosa          8.9\n",
      "9            4.9          3.1           1.5          0.1  Setosa          9.6\n",
      "10           5.4          3.7           1.5          0.2  Setosa         10.8\n"
     ]
    }
   ],
   "source": [
    "print(data.loc[4:10])"
   ]
  },
  {
   "cell_type": "code",
   "execution_count": 16,
   "id": "15187ad1",
   "metadata": {},
   "outputs": [
    {
     "name": "stdout",
     "output_type": "stream",
     "text": [
      "   sepal.length  sepal.width  petal.length  petal.width variety  total_value\n",
      "4           5.0          3.6           1.4          0.2  Setosa         10.2\n",
      "5           5.4          3.9           1.7          0.4  Setosa         11.4\n",
      "6           4.6          3.4           1.4          0.3  Setosa          9.7\n",
      "7           5.0          3.4           1.5          0.2  Setosa         10.1\n",
      "8           4.4          2.9           1.4          0.2  Setosa          8.9\n",
      "9           4.9          3.1           1.5          0.1  Setosa          9.6\n"
     ]
    }
   ],
   "source": [
    "print(data.iloc[4:10])"
   ]
  },
  {
   "cell_type": "markdown",
   "id": "01b6fdf0",
   "metadata": {},
   "source": [
    " Display data for two columns: petal. length and petal. width"
   ]
  },
  {
   "cell_type": "code",
   "execution_count": 21,
   "id": "3e900f22",
   "metadata": {},
   "outputs": [
    {
     "name": "stdout",
     "output_type": "stream",
     "text": [
      "     petal.length  petal.width    variety\n",
      "0             1.4          0.2     Setosa\n",
      "1             1.4          0.2     Setosa\n",
      "2             1.3          0.2     Setosa\n",
      "3             1.5          0.2     Setosa\n",
      "4             1.4          0.2     Setosa\n",
      "..            ...          ...        ...\n",
      "145           5.2          2.3  Virginica\n",
      "146           5.0          1.9  Virginica\n",
      "147           5.2          2.0  Virginica\n",
      "148           5.4          2.3  Virginica\n",
      "149           5.1          1.8  Virginica\n",
      "\n",
      "[150 rows x 3 columns]\n"
     ]
    }
   ],
   "source": [
    "print(data[['petal.length','petal.width','variety']])"
   ]
  },
  {
   "cell_type": "markdown",
   "id": "15612f10",
   "metadata": {},
   "source": [
    "Counting the number of counts of each variety."
   ]
  },
  {
   "cell_type": "code",
   "execution_count": 22,
   "id": "15dc5b96",
   "metadata": {},
   "outputs": [
    {
     "name": "stdout",
     "output_type": "stream",
     "text": [
      "variety\n",
      "Setosa        50\n",
      "Versicolor    50\n",
      "Virginica     50\n",
      "Name: count, dtype: int64\n"
     ]
    }
   ],
   "source": [
    "print(data['variety'].value_counts())"
   ]
  },
  {
   "cell_type": "markdown",
   "id": "da5ad300",
   "metadata": {},
   "source": [
    "Display only those rows whose variety is Setosa."
   ]
  },
  {
   "cell_type": "code",
   "execution_count": 24,
   "id": "36d5bd65",
   "metadata": {},
   "outputs": [
    {
     "name": "stdout",
     "output_type": "stream",
     "text": [
      "    sepal.length  sepal.width  petal.length  petal.width variety  total_value\n",
      "0            5.1          3.5           1.4          0.2  Setosa         10.2\n",
      "1            4.9          3.0           1.4          0.2  Setosa          9.5\n",
      "2            4.7          3.2           1.3          0.2  Setosa          9.4\n",
      "3            4.6          3.1           1.5          0.2  Setosa          9.4\n",
      "4            5.0          3.6           1.4          0.2  Setosa         10.2\n",
      "5            5.4          3.9           1.7          0.4  Setosa         11.4\n",
      "6            4.6          3.4           1.4          0.3  Setosa          9.7\n",
      "7            5.0          3.4           1.5          0.2  Setosa         10.1\n",
      "8            4.4          2.9           1.4          0.2  Setosa          8.9\n",
      "9            4.9          3.1           1.5          0.1  Setosa          9.6\n",
      "10           5.4          3.7           1.5          0.2  Setosa         10.8\n",
      "11           4.8          3.4           1.6          0.2  Setosa         10.0\n",
      "12           4.8          3.0           1.4          0.1  Setosa          9.3\n",
      "13           4.3          3.0           1.1          0.1  Setosa          8.5\n",
      "14           5.8          4.0           1.2          0.2  Setosa         11.2\n",
      "15           5.7          4.4           1.5          0.4  Setosa         12.0\n",
      "16           5.4          3.9           1.3          0.4  Setosa         11.0\n",
      "17           5.1          3.5           1.4          0.3  Setosa         10.3\n",
      "18           5.7          3.8           1.7          0.3  Setosa         11.5\n",
      "19           5.1          3.8           1.5          0.3  Setosa         10.7\n",
      "20           5.4          3.4           1.7          0.2  Setosa         10.7\n",
      "21           5.1          3.7           1.5          0.4  Setosa         10.7\n",
      "22           4.6          3.6           1.0          0.2  Setosa          9.4\n",
      "23           5.1          3.3           1.7          0.5  Setosa         10.6\n",
      "24           4.8          3.4           1.9          0.2  Setosa         10.3\n",
      "25           5.0          3.0           1.6          0.2  Setosa          9.8\n",
      "26           5.0          3.4           1.6          0.4  Setosa         10.4\n",
      "27           5.2          3.5           1.5          0.2  Setosa         10.4\n",
      "28           5.2          3.4           1.4          0.2  Setosa         10.2\n",
      "29           4.7          3.2           1.6          0.2  Setosa          9.7\n",
      "30           4.8          3.1           1.6          0.2  Setosa          9.7\n",
      "31           5.4          3.4           1.5          0.4  Setosa         10.7\n",
      "32           5.2          4.1           1.5          0.1  Setosa         10.9\n",
      "33           5.5          4.2           1.4          0.2  Setosa         11.3\n",
      "34           4.9          3.1           1.5          0.2  Setosa          9.7\n",
      "35           5.0          3.2           1.2          0.2  Setosa          9.6\n",
      "36           5.5          3.5           1.3          0.2  Setosa         10.5\n",
      "37           4.9          3.6           1.4          0.1  Setosa         10.0\n",
      "38           4.4          3.0           1.3          0.2  Setosa          8.9\n",
      "39           5.1          3.4           1.5          0.2  Setosa         10.2\n",
      "40           5.0          3.5           1.3          0.3  Setosa         10.1\n",
      "41           4.5          2.3           1.3          0.3  Setosa          8.4\n",
      "42           4.4          3.2           1.3          0.2  Setosa          9.1\n",
      "43           5.0          3.5           1.6          0.6  Setosa         10.7\n",
      "44           5.1          3.8           1.9          0.4  Setosa         11.2\n",
      "45           4.8          3.0           1.4          0.3  Setosa          9.5\n",
      "46           5.1          3.8           1.6          0.2  Setosa         10.7\n",
      "47           4.6          3.2           1.4          0.2  Setosa          9.4\n",
      "48           5.3          3.7           1.5          0.2  Setosa         10.7\n",
      "49           5.0          3.3           1.4          0.2  Setosa          9.9\n"
     ]
    }
   ],
   "source": [
    "print(data[data['variety']=='Setosa'])"
   ]
  },
  {
   "cell_type": "markdown",
   "id": "78b4a7ed",
   "metadata": {},
   "source": [
    " Calculate the sum, mean , mode min , max of a particular column (say petal. length)."
   ]
  },
  {
   "cell_type": "code",
   "execution_count": 27,
   "id": "3b13a063",
   "metadata": {},
   "outputs": [
    {
     "name": "stdout",
     "output_type": "stream",
     "text": [
      "Sum: 563.7\n",
      "Mean: 3.7580000000000005\n",
      "Mode: 1.4\n"
     ]
    }
   ],
   "source": [
    "print(\"Sum:\",data['petal.length'].sum())\n",
    "print(\"Mean:\",data['petal.length'].mean())\n",
    "print(\"Mode:\",data['petal.length'].mode()[0])"
   ]
  },
  {
   "cell_type": "code",
   "execution_count": 29,
   "id": "5ee6aa54",
   "metadata": {},
   "outputs": [
    {
     "name": "stdout",
     "output_type": "stream",
     "text": [
      "Mode: 0    1.4\n",
      "1    1.5\n",
      "Name: petal.length, dtype: float64\n"
     ]
    }
   ],
   "source": [
    "print(\"Mode:\",data['petal.length'].mode())"
   ]
  },
  {
   "cell_type": "code",
   "execution_count": 33,
   "id": "d189e3b2",
   "metadata": {},
   "outputs": [
    {
     "name": "stdout",
     "output_type": "stream",
     "text": [
      "1.0\n",
      "6.9\n"
     ]
    }
   ],
   "source": [
    "print(data['petal.length'].min())\n",
    "print(data['petal.length'].max())"
   ]
  },
  {
   "cell_type": "markdown",
   "id": "4b91badc",
   "metadata": {},
   "source": [
    " Add a column (say total_value) to the dataset which will display the sum of the integer values \n",
    "of each row"
   ]
  },
  {
   "cell_type": "code",
   "execution_count": 37,
   "id": "d509aa87",
   "metadata": {},
   "outputs": [
    {
     "name": "stdout",
     "output_type": "stream",
     "text": [
      "     sepal.length  sepal.width  petal.length  petal.width    variety  \\\n",
      "0             5.1          3.5           1.4          0.2     Setosa   \n",
      "1             4.9          3.0           1.4          0.2     Setosa   \n",
      "2             4.7          3.2           1.3          0.2     Setosa   \n",
      "3             4.6          3.1           1.5          0.2     Setosa   \n",
      "4             5.0          3.6           1.4          0.2     Setosa   \n",
      "..            ...          ...           ...          ...        ...   \n",
      "145           6.7          3.0           5.2          2.3  Virginica   \n",
      "146           6.3          2.5           5.0          1.9  Virginica   \n",
      "147           6.5          3.0           5.2          2.0  Virginica   \n",
      "148           6.2          3.4           5.4          2.3  Virginica   \n",
      "149           5.9          3.0           5.1          1.8  Virginica   \n",
      "\n",
      "     total_value  \n",
      "0           10.2  \n",
      "1            9.5  \n",
      "2            9.4  \n",
      "3            9.4  \n",
      "4           10.2  \n",
      "..           ...  \n",
      "145         17.2  \n",
      "146         15.7  \n",
      "147         16.7  \n",
      "148         17.3  \n",
      "149         15.8  \n",
      "\n",
      "[150 rows x 6 columns]\n"
     ]
    }
   ],
   "source": [
    "data['total_value']=data[['petal.length','petal.width','sepal.length','sepal.width']].sum(axis=1)\n",
    "print(data)"
   ]
  },
  {
   "cell_type": "code",
   "execution_count": 39,
   "id": "9657a207",
   "metadata": {},
   "outputs": [],
   "source": [
    "data.to_csv('iris.csv')"
   ]
  },
  {
   "cell_type": "markdown",
   "id": "e5dbbbde",
   "metadata": {},
   "source": [
    "Rename the column name from variety to variety1 and reverse."
   ]
  },
  {
   "cell_type": "code",
   "execution_count": 43,
   "id": "fe56a35d",
   "metadata": {},
   "outputs": [],
   "source": [
    "data.rename(columns={'variety':'variety1'},inplace=True)"
   ]
  },
  {
   "cell_type": "code",
   "execution_count": 44,
   "id": "bb2f580d",
   "metadata": {},
   "outputs": [],
   "source": [
    "data.to_csv('iris.csv')"
   ]
  },
  {
   "cell_type": "code",
   "execution_count": 45,
   "id": "3b730c2f",
   "metadata": {},
   "outputs": [],
   "source": [
    "data.rename(columns={'variety1':'variety'},inplace=True)"
   ]
  },
  {
   "cell_type": "code",
   "execution_count": 46,
   "id": "7863fbc7",
   "metadata": {},
   "outputs": [],
   "source": [
    "data.to_csv('iris.csv')"
   ]
  },
  {
   "cell_type": "markdown",
   "id": "97bad6f0",
   "metadata": {},
   "source": [
    "Remove total value column"
   ]
  },
  {
   "cell_type": "code",
   "execution_count": 47,
   "id": "52e26f2d",
   "metadata": {},
   "outputs": [],
   "source": [
    "data.drop(columns='total_value',inplace=True)"
   ]
  },
  {
   "cell_type": "code",
   "execution_count": 48,
   "id": "a1871bde",
   "metadata": {},
   "outputs": [],
   "source": [
    "data.to_csv('iris.csv')"
   ]
  },
  {
   "cell_type": "markdown",
   "id": "f39fd60a",
   "metadata": {},
   "source": [
    "Delete first row"
   ]
  },
  {
   "cell_type": "code",
   "execution_count": 49,
   "id": "806652d4",
   "metadata": {},
   "outputs": [
    {
     "name": "stdout",
     "output_type": "stream",
     "text": [
      "     sepal.length  sepal.width  petal.length  petal.width    variety\n",
      "1             4.9          3.0           1.4          0.2     Setosa\n",
      "2             4.7          3.2           1.3          0.2     Setosa\n",
      "3             4.6          3.1           1.5          0.2     Setosa\n",
      "4             5.0          3.6           1.4          0.2     Setosa\n",
      "5             5.4          3.9           1.7          0.4     Setosa\n",
      "..            ...          ...           ...          ...        ...\n",
      "145           6.7          3.0           5.2          2.3  Virginica\n",
      "146           6.3          2.5           5.0          1.9  Virginica\n",
      "147           6.5          3.0           5.2          2.0  Virginica\n",
      "148           6.2          3.4           5.4          2.3  Virginica\n",
      "149           5.9          3.0           5.1          1.8  Virginica\n",
      "\n",
      "[149 rows x 5 columns]\n"
     ]
    }
   ],
   "source": [
    "data.drop(index=data.index[0],inplace=True)\n",
    "print(data)"
   ]
  },
  {
   "cell_type": "code",
   "execution_count": null,
   "id": "25cec9a9",
   "metadata": {},
   "outputs": [],
   "source": []
  }
 ],
 "metadata": {
  "kernelspec": {
   "display_name": ".venv",
   "language": "python",
   "name": "python3"
  },
  "language_info": {
   "codemirror_mode": {
    "name": "ipython",
    "version": 3
   },
   "file_extension": ".py",
   "mimetype": "text/x-python",
   "name": "python",
   "nbconvert_exporter": "python",
   "pygments_lexer": "ipython3",
   "version": "3.13.0"
  }
 },
 "nbformat": 4,
 "nbformat_minor": 5
}
